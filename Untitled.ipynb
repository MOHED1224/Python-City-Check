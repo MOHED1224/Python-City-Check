{
 "cells": [
  {
   "cell_type": "code",
   "execution_count": 232,
   "metadata": {},
   "outputs": [],
   "source": [
    "import matplotlib.pyplot as plt\n",
    "import matplotlib.patches as patches\n",
    "%matplotlib inline"
   ]
  },
  {
   "cell_type": "code",
   "execution_count": 233,
   "metadata": {},
   "outputs": [],
   "source": [
    "import pandas as pd\n",
    "import numpy as np"
   ]
  },
  {
   "cell_type": "code",
   "execution_count": 234,
   "metadata": {},
   "outputs": [
    {
     "data": {
      "image/png": "[encoded data removed]",
      "text/plain": [
       "<Figure size 432x288 with 1 Axes>"
      ]
     },
     "metadata": {
      "needs_background": "light"
     },
     "output_type": "display_data"
    }
   ],
   "source": [
    "points = pd.read_csv(\"points.csv\")\n",
    "\n",
    "cities = pd.read_csv(\"cities.csv\")\n",
    "\n",
    "fig1 = plt.figure(1)\n",
    "ax1 = fig1.add_subplot(111)\n",
    "\n",
    "rows = cities['Name'].count()\n",
    "pointsrows = points['ID'].count()\n",
    "Xs = []\n",
    "Ys = []\n",
    "\n",
    "for i in range(0, rows):\n",
    "    pointA = [cities['TopLeft_X'][i], cities['TopLeft_Y'][i]]\n",
    "    pointB = [cities['BottomRight_X'][i], cities['BottomRight_Y'][i]]\n",
    "    x = [cities['TopLeft_X'][i], cities['BottomRight_X'][i]]\n",
    "    y = [cities['TopLeft_Y'][i], cities['BottomRight_Y'][i]]\n",
    "    Xs.append(x)\n",
    "    Ys.append(y)\n",
    "    width = pointB[0] - pointA[0]\n",
    "    height = pointB[1] - pointA[1]\n",
    "    \n",
    "    ax1.add_patch(patches.Rectangle(pointA, width, height))\n",
    "    lims = (0, 111)\n",
    "    \n",
    "plt.ylim(lims)\n",
    "plt.xlim(lims)\n",
    "plt.gca().invert_yaxis()\n",
    "plt.gca().xaxis.tick_top()\n",
    "\n",
    "\n"
   ]
  },
  {
   "cell_type": "code",
   "execution_count": 235,
   "metadata": {},
   "outputs": [],
   "source": [
    "import itertools\n",
    "import os\n",
    "from csv import reader, DictReader, writer, DictWriter\n",
    "import csv\n",
    "\n",
    "for i in range (0, pointsrows):\n",
    "    for x, y in zip(Xs, Ys):\n",
    "        if(x[0] <= points['X'][i] and x[1] >= points['X'][i] and y[0] <= points['Y'][i] and y[1] >= points['Y'][i]):\n",
    "            labelPoint = \"Point_\"+str(i+1)\n",
    "            c = cities[cities['TopLeft_X']==x[0]]\n",
    "\n",
    "            with open(\"output_points2.csv\", \"a\", newline='') as file:\n",
    "                header = [\"ID\", \"X\", \"Y\", \"City\"]\n",
    "                csv_writer = DictWriter(file, fieldnames=header)\n",
    "                csv_writer.writeheader()\n",
    "                csv_writer.writerow({\n",
    "                    \"ID\": labelPoint,\n",
    "                    \"X\": points['X'][i],\n",
    "                    \"Y\": points['Y'][i],\n",
    "                    \"City\": c['Name'].values\n",
    "                })\n",
    "\n",
    "csv3 = pd.read_csv(\"output_points2.csv\")\n",
    "for i in range (0, pointsrows):\n",
    "    if(points['X'][i] not in csv3['X'] and points['Y'][i] not in csv3['Y']):\n",
    "        labelPoint = \"Point_\"+str(i+1)\n",
    "        with open(\"output_points2.csv\", \"a\", newline='') as file:\n",
    "                header = [\"ID\", \"X\", \"Y\", \"City\"]\n",
    "                csv_writer = DictWriter(file, fieldnames=header)\n",
    "                csv_writer.writeheader()\n",
    "                csv_writer.writerow({\n",
    "                    \"ID\": labelPoint ,\n",
    "                    \"X\": points['X'][i],\n",
    "                    \"Y\": points['Y'][i],\n",
    "                    \"City\": \"None\"\n",
    "                })\n",
    "                \n",
    "csv4 = pd.read_csv(\"output_points2.csv\")\n",
    "csv4 = csv4[csv4['X'] != 'X']\n",
    "csv4.to_csv(\"output_points.csv\", encoding='utf-8', index=False)\n",
    "\n",
    "os.remove(\"output_points2.csv\")"
   ]
  },
  {
   "cell_type": "code",
   "execution_count": null,
   "metadata": {},
   "outputs": [],
   "source": []
  }
 ],
 "metadata": {
  "kernelspec": {
   "display_name": "Python 3",
   "language": "python",
   "name": "python3"
  },
  "language_info": {
   "codemirror_mode": {
    "name": "ipython",
    "version": 3
   },
   "file_extension": ".py",
   "mimetype": "text/x-python",
   "name": "python",
   "nbconvert_exporter": "python",
   "pygments_lexer": "ipython3",
   "version": "3.7.0"
  }
 },
 "nbformat": 4,
 "nbformat_minor": 2
}
